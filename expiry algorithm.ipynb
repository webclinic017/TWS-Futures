{
 "cells": [
  {
   "cell_type": "code",
   "execution_count": 1,
   "metadata": {},
   "outputs": [
    {
     "name": "stdout",
     "output_type": "stream",
     "text": [
      "57\n"
     ]
    }
   ],
   "source": [
    "from datetime import date\n",
    "import datetime\n",
    "from dateutil.relativedelta import relativedelta\n",
    "\n",
    "day_name= ['Monday', 'Tuesday', 'Wednesday', 'Thursday', 'Friday', 'Saturday','Sunday']\n",
    "given1_date = '20201004'\n",
    "TODAY = datetime.datetime.strptime(given1_date,'%Y%m%d')\n",
    "date2 = TODAY - relativedelta(days = int(57))\n",
    "day_name[date2.weekday()]\n",
    "\n",
    "date1 = '20201004'\n",
    "p_date = datetime.datetime.strptime(date1,'%Y%m%d')\n",
    "l_date = date(p_date.year, p_date.month, p_date.day)\n",
    "f_date = date(date2.year, date2.month, date2.day)\n",
    "delta = l_date - f_date\n",
    "print(delta.days)"
   ]
  },
  {
   "cell_type": "code",
   "execution_count": 2,
   "metadata": {},
   "outputs": [],
   "source": [
    "from math import ceil\n",
    "\n",
    "def week_of_month(dt):\n",
    "    \"\"\" Returns the week of the month for the specified date.\n",
    "    \"\"\"\n",
    "    #leap year need to be handled properly\n",
    "    first_day = dt.replace(day=1)\n",
    "    dom = dt.day\n",
    "    adjusted_dom = dom + first_day.weekday()+1\n",
    "    print(int(ceil(adjusted_dom/7.0)))\n",
    "    return int(ceil(adjusted_dom/7.0))"
   ]
  },
  {
   "cell_type": "code",
   "execution_count": 3,
   "metadata": {},
   "outputs": [],
   "source": [
    "def calc_min_day(seconds):\n",
    "    days = seconds/86400\n",
    "    return days"
   ]
  },
  {
   "cell_type": "code",
   "execution_count": 4,
   "metadata": {},
   "outputs": [],
   "source": [
    "def do_round_up(check_day1, check_day2):\n",
    "    if check_day1 != check_day2:\n",
    "        check_day2 += 1\n",
    "    return check_day2"
   ]
  },
  {
   "cell_type": "code",
   "execution_count": 5,
   "metadata": {},
   "outputs": [],
   "source": [
    "def date_finder(given_date,number_of_days):\n",
    "    given_d = datetime.datetime.strptime(given_date,'%Y%m%d')\n",
    "    date2 = given_d - relativedelta(days = int(number_of_days))\n",
    "    return date2.date()"
   ]
  },
  {
   "cell_type": "code",
   "execution_count": 6,
   "metadata": {},
   "outputs": [],
   "source": [
    "def working_day_calculation(start_date,end_date):\n",
    "    start_date = datetime.datetime.strptime(start_date, '%Y-%m-%d')\n",
    "    end_date = datetime.datetime.strptime(end_date, '%Y-%m-%d')\n",
    "    result = int(np.busday_count(start_date.date(), end_date.date(), weekmask=[1,1,1,1,1,0,0], holidays=['2020-01-01']))   \n",
    "    if result <= 20 and result >= 0 :\n",
    "        return True\n",
    "    elif (result < 0) and (result > -90):\n",
    "        return True\n",
    "    else:\n",
    "        return False"
   ]
  },
  {
   "cell_type": "code",
   "execution_count": 14,
   "metadata": {},
   "outputs": [],
   "source": [
    "def find_expiry(start_date,end_date,symbol):\n",
    "    import datetime\n",
    "    from dateutil.relativedelta import relativedelta\n",
    "    import numpy as np\n",
    "    import pandas as pd\n",
    "    #start_date = datetime.datetime.strptime('20160311','%Y%m%d')\n",
    "    #end_date = datetime.datetime.strptime('20200728','%Y%m%d')\n",
    "    day_name= ['Monday', 'Tuesday', 'Wednesday', 'Thursday', 'Friday', 'Saturday','Sunday']\n",
    "    future_expiry = pd.read_excel('future_contracts.xlsx')\n",
    "    future_list = future_expiry[symbol].to_list()\n",
    "    last_count = 0\n",
    "    count = 0\n",
    "    expiries = []\n",
    "    for i in range(len(future_list)-1):\n",
    "        expiry_date = datetime.datetime.strptime(str(future_list[i]),'%Y%m%d')\n",
    "        start = np.where(expiry_date < start_date, 1, 2)\n",
    "        end = np.where(expiry_date > end_date, 1, 2)\n",
    "        if start == end:\n",
    "            count += 1\n",
    "            expiries.append(str(expiry_date.date()))\n",
    "        if not expiries:\n",
    "            if (end == 1) and (last_count == 0):\n",
    "                last_expiry_date_check = datetime.datetime.strptime(str(future_list[i]),'%Y%m%d')\n",
    "                last_expiry_date_before_check = datetime.datetime.strptime(str(future_list[i-1]),'%Y%m%d')\n",
    "                if (end_date < last_expiry_date_check) and (end_date > last_expiry_date_before_check):\n",
    "                    expiries.append(str(last_expiry_date_check.date()))\n",
    "        elif (end == 1) and (count > 1) and (last_count == 0):\n",
    "            last_expiry_date_check = datetime.datetime.strptime(str(future_list[i]),'%Y%m%d')\n",
    "            last_expiry_date_before_check = datetime.datetime.strptime(str(future_list[i-1]),'%Y%m%d')\n",
    "            if (end_date < last_expiry_date_check) and (end_date > last_expiry_date_before_check):\n",
    "                expiries.append(str(last_expiry_date_check.date()))\n",
    "            last_count += 1\n",
    "    if working_day_calculation(str(end_date.date()), expiries[-1]):\n",
    "        value = expiries[-1].replace('-','')\n",
    "        if len(future_list) != future_list.index(int(value)):\n",
    "            sub_string = str(future_list[future_list.index(int(value))+1])\n",
    "            sub_string = sub_string[:4]+'-'+sub_string[4:6]+'-'+sub_string[6:]\n",
    "            expiries.append(sub_string)\n",
    "    return expiries\n",
    "\n",
    "    \"\"\"expiry_day_name = day_name[expiry_date.weekday()]\n",
    "    if etype == 'future':\n",
    "        month_end_date = expiry_date + relativedelta(days = int(91))\n",
    "        month_end_day_name = day_name[month_end_date.weekday()]\n",
    "    else:\n",
    "        month_end_date = expiry_date - relativedelta(days = int(91))\n",
    "        month_end_day_name = day_name[month_end_date.weekday()]\n",
    "    \n",
    "    if expiry_day_name != month_end_day_name:\n",
    "        one_day_increment = month_end_date + relativedelta(days = int(1))\n",
    "        one_day_increment_day = day_name[one_day_increment.weekday()]\n",
    "        if one_day_increment_day == expiry_day_name:\n",
    "            return one_day_increment.date()\n",
    "        one_day_decrement = month_end_date - relativedelta(days = int(1))\n",
    "        one_day_decrement_day = day_name[one_day_decrement.weekday()]\n",
    "        if one_day_decrement_day == expiry_day_name:\n",
    "            return one_day_decrement.date()\n",
    "        else:\n",
    "            print('Major Exception need to capture from EXPIRY')\n",
    "    else:\n",
    "        return month_end_date.date()\"\"\""
   ]
  },
  {
   "cell_type": "code",
   "execution_count": 7,
   "metadata": {},
   "outputs": [],
   "source": [
    "def end_date_constrains(start_date, end_date):\n",
    "    import numpy as np\n",
    "    start_start_date = datetime.datetime.strptime('20000309','%Y%m%d')\n",
    "    end_end_date = datetime.datetime.strptime('20260312','%Y%m%d')\n",
    "    start = np.where(start_date < start_start_date, 1, 2)\n",
    "    end = np.where(end_date > end_end_date, 1, 2)\n",
    "    if start == 1:\n",
    "        print(\"WARNING: Start date is beyond the duration period's start date - 2000-03-09\")\n",
    "    elif end == 1:\n",
    "        print(\"WARNING: End date is beyond the duration period end date - 2026-03-12\")\n",
    "    elif (start == 1) & (end == 1):\n",
    "        print(\"WARNING: Start,End date durations are going beyond the start and end date's duration - 2000-03-09 to 2026-03-12\")\n",
    "    else:\n",
    "        pass"
   ]
  },
  {
   "cell_type": "markdown",
   "metadata": {},
   "source": [
    "        expiries_dict[0]['date'] = str(end_date)\n",
    "        expiries_dict[0]['expiry'] = str(expiries[0])\n",
    "        expiries_dict[0]['days'] = str(days)"
   ]
  },
  {
   "cell_type": "code",
   "execution_count": 8,
   "metadata": {},
   "outputs": [],
   "source": [
    "def calculate_days_of_first_expiry(start_date, end_date, check=None):\n",
    "    import numpy as np\n",
    "    if check == 'first':\n",
    "        end_date = datetime.datetime.strptime(end_date, '%Y-%m-%d')\n",
    "    if check == 'last':\n",
    "        start_date = datetime.datetime.strptime(start_date, '%Y-%m-%d')\n",
    "    result = int(np.busday_count(start_date.date(), end_date.date(), weekmask=[1,1,1,1,1,0,0], holidays=['2020-01-01']))\n",
    "    return result"
   ]
  },
  {
   "cell_type": "code",
   "execution_count": 9,
   "metadata": {},
   "outputs": [],
   "source": [
    "def generate_each_input(start_date, end_date, expiries):\n",
    "    import datetime\n",
    "    expiry_list = []\n",
    "    for expiry in range(len(expiries)):\n",
    "        if expiry == 0:\n",
    "            first = calculate_days_of_first_expiry(start_date, expiries[expiry], check='first')\n",
    "            first_out = str(expiries[expiry])+','+str(start_date.date())+','+str(first)\n",
    "            expiry_list.append(first_out)\n",
    "        elif expiry == (len(expiries)-1):\n",
    "            last = calculate_days_of_first_expiry(expiries[expiry-1], end_date,check='last')\n",
    "            last = last + 21 #increasing one month days\n",
    "            last_out = str(expiries[expiry])+','+str(end_date.date())+','+str(last)\n",
    "            expiry_list.append(last_out)\n",
    "        else:\n",
    "            all_other = 112\n",
    "            all_other_out = str(expiries[expiry])+','+str(expiries[expiry])+','+str(all_other)\n",
    "            expiry_list.append(all_other_out)\n",
    "    with open('expiries_input.csv', 'a') as file:\n",
    "        line = \"expiry,end_date,days\"\n",
    "        file.write(line)\n",
    "        file.write('\\n')\n",
    "        for i in expiry_list:\n",
    "            file.write(i)\n",
    "            file.write('\\n')\n",
    "    #days = calculate_days_of_first_expiry(start_date,end_date,check='first')\n",
    "    #return expiries_dict"
   ]
  },
  {
   "cell_type": "code",
   "execution_count": 16,
   "metadata": {},
   "outputs": [
    {
     "name": "stdout",
     "output_type": "stream",
     "text": [
      "['2020-09-10', '2020-12-10']\n"
     ]
    }
   ],
   "source": [
    "import math\n",
    "def date_calculate_to_expiry(input_date, duration, symbol):\n",
    "    duration = duration.split()\n",
    "    duration_value = int(duration[0])\n",
    "    duration_period = duration[1]\n",
    "    if duration_period == 'S':\n",
    "        f_days = calc_min_day(duration_value)\n",
    "        l_days = int(f_days)\n",
    "        days = do_round_up(f_days,l_days)\n",
    "        if days > 28:\n",
    "            pass #need to handle months for inputs go beyond month\n",
    "    elif duration_period == 'D':\n",
    "        end_date = datetime.datetime.strptime(input_date,'%Y%m%d')\n",
    "        _given_dates, start_date = find_end_date_without_weekend(duration_value, input_date)\n",
    "        start_date = datetime.datetime.strptime(str(start_date),'%Y-%m-%d')\n",
    "        expiries = find_expiry(start_date, end_date, symbol)\n",
    "        return expiries\n",
    "    elif duration_period == 'W':\n",
    "        duration_v = duration_value * 7\n",
    "        end_date = datetime.datetime.strptime(input_date,'%Y%m%d')\n",
    "        _given_dates, start_date = find_end_date_without_weekend(duration_v, input_date)\n",
    "        start_date = datetime.datetime.strptime(str(start_date),'%Y-%m-%d')\n",
    "        end_date_constrains(start_date, end_date)\n",
    "        expiries = find_expiry(start_date, end_date, symbol)\n",
    "        each_input = generate_each_input(start_date, end_date, expiries)\n",
    "        #return each_input\n",
    "print(date_calculate_to_expiry('20200830','6 D','N225'))"
   ]
  },
  {
   "cell_type": "code",
   "execution_count": 11,
   "metadata": {},
   "outputs": [
    {
     "data": {
      "text/plain": [
       "309"
      ]
     },
     "execution_count": 11,
     "metadata": {},
     "output_type": "execute_result"
    }
   ],
   "source": [
    "import numpy as np\n",
    "np.busday_count('2019-01-21','2020-03-28',weekmask=[1,1,1,1,1,0,0],holidays=['2020-01-01'])"
   ]
  },
  {
   "cell_type": "code",
   "execution_count": 12,
   "metadata": {},
   "outputs": [],
   "source": [
    "def find_end_date_without_weekend(duration_value,input_date):\n",
    "    import numpy as np\n",
    "    with_weekdays = round(duration_value+((duration_value/7)*2))\n",
    "    f_result = {}\n",
    "    while True:\n",
    "        np_input_date = datetime.datetime.strptime(input_date,'%Y%m%d')\n",
    "        start_date = date_finder(input_date, with_weekdays)\n",
    "        #print(start_date)\n",
    "        if 'start_date' not in f_result:\n",
    "            f_result['start_date'] =  start_date\n",
    "        result = int(np.busday_count(f_result['start_date'],np_input_date.date(),weekmask=[1,1,1,1,1,0,0],holidays=['2020-01-01']))\n",
    "        if 'result' not in f_result:\n",
    "            f_result['result'] = result\n",
    "        if f_result['result'] >= duration_value:\n",
    "            return f_result['result'],f_result['start_date']\n",
    "        else:\n",
    "            f_result['result'] = result\n",
    "            f_result['start_date'] = f_result['start_date'] - datetime.timedelta(days=1)"
   ]
  },
  {
   "cell_type": "code",
   "execution_count": 13,
   "metadata": {},
   "outputs": [
    {
     "data": {
      "text/plain": [
       "'2020-06-11'"
      ]
     },
     "execution_count": 13,
     "metadata": {},
     "output_type": "execute_result"
    }
   ],
   "source": [
    "'2020-06-11'"
   ]
  },
  {
   "cell_type": "code",
   "execution_count": null,
   "metadata": {},
   "outputs": [],
   "source": [
    "'2020-06-11'.replace('-','')"
   ]
  },
  {
   "cell_type": "code",
   "execution_count": null,
   "metadata": {},
   "outputs": [],
   "source": [
    "val = []\n",
    "if val:\n",
    "    print('yes')"
   ]
  },
  {
   "cell_type": "code",
   "execution_count": null,
   "metadata": {},
   "outputs": [],
   "source": []
  }
 ],
 "metadata": {
  "kernelspec": {
   "display_name": "Python 3",
   "language": "python",
   "name": "python3"
  },
  "language_info": {
   "codemirror_mode": {
    "name": "ipython",
    "version": 3
   },
   "file_extension": ".py",
   "mimetype": "text/x-python",
   "name": "python",
   "nbconvert_exporter": "python",
   "pygments_lexer": "ipython3",
   "version": "3.7.3"
  }
 },
 "nbformat": 4,
 "nbformat_minor": 2
}
